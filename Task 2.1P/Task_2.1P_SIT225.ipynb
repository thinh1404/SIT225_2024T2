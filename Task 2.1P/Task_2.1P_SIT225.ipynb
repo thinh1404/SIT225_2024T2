{
 "cells": [
  {
   "cell_type": "code",
   "execution_count": 1,
   "id": "fbaf69e6-b034-400b-9e64-85440e3099ce",
   "metadata": {
    "tags": []
   },
   "outputs": [],
   "source": [
    "# Import necessary packages\n",
    "import pandas as pd\n",
    "import matplotlib.pyplot as plt"
   ]
  },
  {
   "cell_type": "code",
   "execution_count": 15,
   "id": "5f1bad48-ee26-4202-a08f-1322a59d8c16",
   "metadata": {
    "tags": []
   },
   "outputs": [],
   "source": [
    "# Upload the created DHT22 data csv file into a dataframe\n",
    "df = pd.read_csv(\"DHT_22.data.csv\")"
   ]
  },
  {
   "cell_type": "code",
   "execution_count": 16,
   "id": "666e039a-8dcb-4917-ab04-2a7c56a1bfe0",
   "metadata": {
    "tags": []
   },
   "outputs": [
    {
     "data": {
      "text/html": [
       "<div>\n",
       "<style scoped>\n",
       "    .dataframe tbody tr th:only-of-type {\n",
       "        vertical-align: middle;\n",
       "    }\n",
       "\n",
       "    .dataframe tbody tr th {\n",
       "        vertical-align: top;\n",
       "    }\n",
       "\n",
       "    .dataframe thead th {\n",
       "        text-align: right;\n",
       "    }\n",
       "</style>\n",
       "<table border=\"1\" class=\"dataframe\">\n",
       "  <thead>\n",
       "    <tr style=\"text-align: right;\">\n",
       "      <th></th>\n",
       "      <th>Timestamp</th>\n",
       "      <th>Humidity</th>\n",
       "      <th>Temperature</th>\n",
       "    </tr>\n",
       "  </thead>\n",
       "  <tbody>\n",
       "    <tr>\n",
       "      <th>0</th>\n",
       "      <td>20240722005331</td>\n",
       "      <td>57.9</td>\n",
       "      <td>18.5</td>\n",
       "    </tr>\n",
       "    <tr>\n",
       "      <th>1</th>\n",
       "      <td>20240722005341</td>\n",
       "      <td>57.6</td>\n",
       "      <td>18.5</td>\n",
       "    </tr>\n",
       "    <tr>\n",
       "      <th>2</th>\n",
       "      <td>20240722005351</td>\n",
       "      <td>57.5</td>\n",
       "      <td>18.6</td>\n",
       "    </tr>\n",
       "    <tr>\n",
       "      <th>3</th>\n",
       "      <td>20240722005401</td>\n",
       "      <td>58.2</td>\n",
       "      <td>18.7</td>\n",
       "    </tr>\n",
       "    <tr>\n",
       "      <th>4</th>\n",
       "      <td>20240722005411</td>\n",
       "      <td>57.6</td>\n",
       "      <td>18.7</td>\n",
       "    </tr>\n",
       "    <tr>\n",
       "      <th>...</th>\n",
       "      <td>...</td>\n",
       "      <td>...</td>\n",
       "      <td>...</td>\n",
       "    </tr>\n",
       "    <tr>\n",
       "      <th>2690</th>\n",
       "      <td>20240722082211</td>\n",
       "      <td>54.3</td>\n",
       "      <td>21.1</td>\n",
       "    </tr>\n",
       "    <tr>\n",
       "      <th>2691</th>\n",
       "      <td>20240722082221</td>\n",
       "      <td>54.3</td>\n",
       "      <td>21.1</td>\n",
       "    </tr>\n",
       "    <tr>\n",
       "      <th>2692</th>\n",
       "      <td>20240722082231</td>\n",
       "      <td>54.2</td>\n",
       "      <td>21.1</td>\n",
       "    </tr>\n",
       "    <tr>\n",
       "      <th>2693</th>\n",
       "      <td>20240722082241</td>\n",
       "      <td>54.2</td>\n",
       "      <td>21.1</td>\n",
       "    </tr>\n",
       "    <tr>\n",
       "      <th>2694</th>\n",
       "      <td>20240722082251</td>\n",
       "      <td>54.4</td>\n",
       "      <td>21.1</td>\n",
       "    </tr>\n",
       "  </tbody>\n",
       "</table>\n",
       "<p>2695 rows × 3 columns</p>\n",
       "</div>"
      ],
      "text/plain": [
       "           Timestamp  Humidity  Temperature\n",
       "0     20240722005331      57.9         18.5\n",
       "1     20240722005341      57.6         18.5\n",
       "2     20240722005351      57.5         18.6\n",
       "3     20240722005401      58.2         18.7\n",
       "4     20240722005411      57.6         18.7\n",
       "...              ...       ...          ...\n",
       "2690  20240722082211      54.3         21.1\n",
       "2691  20240722082221      54.3         21.1\n",
       "2692  20240722082231      54.2         21.1\n",
       "2693  20240722082241      54.2         21.1\n",
       "2694  20240722082251      54.4         21.1\n",
       "\n",
       "[2695 rows x 3 columns]"
      ]
     },
     "execution_count": 16,
     "metadata": {},
     "output_type": "execute_result"
    }
   ],
   "source": [
    "df"
   ]
  },
  {
   "cell_type": "code",
   "execution_count": 17,
   "id": "8658167b-39a0-4df6-835b-1c46a966b565",
   "metadata": {
    "tags": []
   },
   "outputs": [
    {
     "data": {
      "text/html": [
       "<div>\n",
       "<style scoped>\n",
       "    .dataframe tbody tr th:only-of-type {\n",
       "        vertical-align: middle;\n",
       "    }\n",
       "\n",
       "    .dataframe tbody tr th {\n",
       "        vertical-align: top;\n",
       "    }\n",
       "\n",
       "    .dataframe thead th {\n",
       "        text-align: right;\n",
       "    }\n",
       "</style>\n",
       "<table border=\"1\" class=\"dataframe\">\n",
       "  <thead>\n",
       "    <tr style=\"text-align: right;\">\n",
       "      <th></th>\n",
       "      <th>Timestamp</th>\n",
       "      <th>Humidity</th>\n",
       "      <th>Temperature</th>\n",
       "    </tr>\n",
       "  </thead>\n",
       "  <tbody>\n",
       "    <tr>\n",
       "      <th>0</th>\n",
       "      <td>2024-07-22 00:53:31</td>\n",
       "      <td>57.9</td>\n",
       "      <td>18.5</td>\n",
       "    </tr>\n",
       "    <tr>\n",
       "      <th>1</th>\n",
       "      <td>2024-07-22 00:53:41</td>\n",
       "      <td>57.6</td>\n",
       "      <td>18.5</td>\n",
       "    </tr>\n",
       "    <tr>\n",
       "      <th>2</th>\n",
       "      <td>2024-07-22 00:53:51</td>\n",
       "      <td>57.5</td>\n",
       "      <td>18.6</td>\n",
       "    </tr>\n",
       "    <tr>\n",
       "      <th>3</th>\n",
       "      <td>2024-07-22 00:54:01</td>\n",
       "      <td>58.2</td>\n",
       "      <td>18.7</td>\n",
       "    </tr>\n",
       "    <tr>\n",
       "      <th>4</th>\n",
       "      <td>2024-07-22 00:54:11</td>\n",
       "      <td>57.6</td>\n",
       "      <td>18.7</td>\n",
       "    </tr>\n",
       "    <tr>\n",
       "      <th>...</th>\n",
       "      <td>...</td>\n",
       "      <td>...</td>\n",
       "      <td>...</td>\n",
       "    </tr>\n",
       "    <tr>\n",
       "      <th>2690</th>\n",
       "      <td>2024-07-22 08:22:11</td>\n",
       "      <td>54.3</td>\n",
       "      <td>21.1</td>\n",
       "    </tr>\n",
       "    <tr>\n",
       "      <th>2691</th>\n",
       "      <td>2024-07-22 08:22:21</td>\n",
       "      <td>54.3</td>\n",
       "      <td>21.1</td>\n",
       "    </tr>\n",
       "    <tr>\n",
       "      <th>2692</th>\n",
       "      <td>2024-07-22 08:22:31</td>\n",
       "      <td>54.2</td>\n",
       "      <td>21.1</td>\n",
       "    </tr>\n",
       "    <tr>\n",
       "      <th>2693</th>\n",
       "      <td>2024-07-22 08:22:41</td>\n",
       "      <td>54.2</td>\n",
       "      <td>21.1</td>\n",
       "    </tr>\n",
       "    <tr>\n",
       "      <th>2694</th>\n",
       "      <td>2024-07-22 08:22:51</td>\n",
       "      <td>54.4</td>\n",
       "      <td>21.1</td>\n",
       "    </tr>\n",
       "  </tbody>\n",
       "</table>\n",
       "<p>2695 rows × 3 columns</p>\n",
       "</div>"
      ],
      "text/plain": [
       "               Timestamp  Humidity  Temperature\n",
       "0    2024-07-22 00:53:31      57.9         18.5\n",
       "1    2024-07-22 00:53:41      57.6         18.5\n",
       "2    2024-07-22 00:53:51      57.5         18.6\n",
       "3    2024-07-22 00:54:01      58.2         18.7\n",
       "4    2024-07-22 00:54:11      57.6         18.7\n",
       "...                  ...       ...          ...\n",
       "2690 2024-07-22 08:22:11      54.3         21.1\n",
       "2691 2024-07-22 08:22:21      54.3         21.1\n",
       "2692 2024-07-22 08:22:31      54.2         21.1\n",
       "2693 2024-07-22 08:22:41      54.2         21.1\n",
       "2694 2024-07-22 08:22:51      54.4         21.1\n",
       "\n",
       "[2695 rows x 3 columns]"
      ]
     },
     "execution_count": 17,
     "metadata": {},
     "output_type": "execute_result"
    }
   ],
   "source": [
    "# Convert the datetime column into the datetime format\n",
    "df[\"Timestamp\"] = pd.to_datetime(df[\"Timestamp\"], format='%Y%m%d%H%M%S')\n",
    "df"
   ]
  },
  {
   "cell_type": "code",
   "execution_count": 19,
   "id": "21d2bf6c-4f5e-4c32-a29a-0d4953aefff0",
   "metadata": {
    "tags": []
   },
   "outputs": [
    {
     "data": {
      "text/plain": [
       "<matplotlib.legend.Legend at 0x2b8e3a86390>"
      ]
     },
     "execution_count": 19,
     "metadata": {},
     "output_type": "execute_result"
    },
    {
     "data": {
      "image/png": "[encoded data removed]",
      "text/plain": [
       "<Figure size 1000x600 with 1 Axes>"
      ]
     },
     "metadata": {},
     "output_type": "display_data"
    }
   ],
   "source": [
    "# Plotting humidity and temperature over time\n",
    "plt.figure(figsize=(10, 6))\n",
    "\n",
    "# Plot humidity\n",
    "plt.plot(df[\"Timestamp\"], df[\"Humidity\"], label=\"Humidity\", color=\"blue\", marker='x')\n",
    "\n",
    "# Plot temperature\n",
    "plt.plot(df[\"Timestamp\"], df[\"Temperature\"], label=\"Temperature\", color=\"red\", marker='x')\n",
    "\n",
    "# Adding title and labels\n",
    "plt.title(\"Humidity and Temperature Over Time\")\n",
    "plt.xlabel(\"Datetime\")\n",
    "plt.ylabel(\"Values\")\n",
    "plt.legend()"
   ]
  },
  {
   "cell_type": "code",
   "execution_count": null,
   "id": "8551de37-a84e-49b0-9fbb-4c5c60498231",
   "metadata": {},
   "outputs": [],
   "source": []
  }
 ],
 "metadata": {
  "kernelspec": {
   "display_name": "Python 3 (ipykernel)",
   "language": "python",
   "name": "python3"
  },
  "language_info": {
   "codemirror_mode": {
    "name": "ipython",
    "version": 3
   },
   "file_extension": ".py",
   "mimetype": "text/x-python",
   "name": "python",
   "nbconvert_exporter": "python",
   "pygments_lexer": "ipython3",
   "version": "3.11.5"
  }
 },
 "nbformat": 4,
 "nbformat_minor": 5
}
