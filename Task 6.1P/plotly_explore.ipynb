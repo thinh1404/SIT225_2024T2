{
 "cells": [
  {
   "cell_type": "code",
   "execution_count": 1,
   "metadata": {
    "tags": []
   },
   "outputs": [
    {
     "name": "stdout",
     "output_type": "stream",
     "text": [
      "223446545 Truong Khang Thinh Nguyen\n"
     ]
    }
   ],
   "source": [
    "# Fill in student ID and name\n",
    "# \n",
    "student_id = \"223446545\"\n",
    "student_first_last_name = \"Truong Khang Thinh Nguyen\"\n",
    "print(student_id, student_first_last_name)"
   ]
  },
  {
   "cell_type": "code",
   "execution_count": 2,
   "metadata": {
    "tags": []
   },
   "outputs": [
    {
     "name": "stdout",
     "output_type": "stream",
     "text": [
      "Requirement already satisfied: plotly in c:\\users\\thinh\\documents\\anaconda\\lib\\site-packages (5.9.0)\n",
      "Collecting dash\n",
      "  Obtaining dependency information for dash from https://files.pythonhosted.org/packages/27/ad/7047095224013ec2ae37ba8ece5956773e7953c39a3af5aa20d821ed99aa/dash-2.17.1-py3-none-any.whl.metadata\n",
      "  Downloading dash-2.17.1-py3-none-any.whl.metadata (10 kB)\n",
      "Requirement already satisfied: tenacity>=6.2.0 in c:\\users\\thinh\\documents\\anaconda\\lib\\site-packages (from plotly) (8.2.2)\n",
      "Requirement already satisfied: Flask<3.1,>=1.0.4 in c:\\users\\thinh\\documents\\anaconda\\lib\\site-packages (from dash) (2.2.2)\n",
      "Requirement already satisfied: Werkzeug<3.1 in c:\\users\\thinh\\documents\\anaconda\\lib\\site-packages (from dash) (2.2.3)\n",
      "Collecting dash-html-components==2.0.0 (from dash)\n",
      "  Obtaining dependency information for dash-html-components==2.0.0 from https://files.pythonhosted.org/packages/75/65/1b16b853844ef59b2742a7de74a598f376ac0ab581f0dcc34db294e5c90e/dash_html_components-2.0.0-py3-none-any.whl.metadata\n",
      "  Downloading dash_html_components-2.0.0-py3-none-any.whl.metadata (3.8 kB)\n",
      "Collecting dash-core-components==2.0.0 (from dash)\n",
      "  Obtaining dependency information for dash-core-components==2.0.0 from https://files.pythonhosted.org/packages/00/9e/a29f726e84e531a36d56cff187e61d8c96d2cc253c5bcef9a7695acb7e6a/dash_core_components-2.0.0-py3-none-any.whl.metadata\n",
      "  Downloading dash_core_components-2.0.0-py3-none-any.whl.metadata (2.9 kB)\n",
      "Collecting dash-table==5.0.0 (from dash)\n",
      "  Obtaining dependency information for dash-table==5.0.0 from https://files.pythonhosted.org/packages/da/ce/43f77dc8e7bbad02a9f88d07bf794eaf68359df756a28bb9f2f78e255bb1/dash_table-5.0.0-py3-none-any.whl.metadata\n",
      "  Downloading dash_table-5.0.0-py3-none-any.whl.metadata (2.4 kB)\n",
      "Requirement already satisfied: importlib-metadata in c:\\users\\thinh\\documents\\anaconda\\lib\\site-packages (from dash) (6.0.0)\n",
      "Requirement already satisfied: typing-extensions>=4.1.1 in c:\\users\\thinh\\documents\\anaconda\\lib\\site-packages (from dash) (4.7.1)\n",
      "Requirement already satisfied: requests in c:\\users\\thinh\\documents\\anaconda\\lib\\site-packages (from dash) (2.31.0)\n",
      "Collecting retrying (from dash)\n",
      "  Obtaining dependency information for retrying from https://files.pythonhosted.org/packages/8f/04/9e36f28be4c0532c0e9207ff9dc01fb13a2b0eb036476a213b0000837d0e/retrying-1.3.4-py3-none-any.whl.metadata\n",
      "  Downloading retrying-1.3.4-py3-none-any.whl.metadata (6.9 kB)\n",
      "Requirement already satisfied: nest-asyncio in c:\\users\\thinh\\documents\\anaconda\\lib\\site-packages (from dash) (1.5.6)\n",
      "Requirement already satisfied: setuptools in c:\\users\\thinh\\documents\\anaconda\\lib\\site-packages (from dash) (68.0.0)\n",
      "Requirement already satisfied: Jinja2>=3.0 in c:\\users\\thinh\\documents\\anaconda\\lib\\site-packages (from Flask<3.1,>=1.0.4->dash) (3.1.2)\n",
      "Requirement already satisfied: itsdangerous>=2.0 in c:\\users\\thinh\\documents\\anaconda\\lib\\site-packages (from Flask<3.1,>=1.0.4->dash) (2.0.1)\n",
      "Requirement already satisfied: click>=8.0 in c:\\users\\thinh\\documents\\anaconda\\lib\\site-packages (from Flask<3.1,>=1.0.4->dash) (8.0.4)\n",
      "Requirement already satisfied: MarkupSafe>=2.1.1 in c:\\users\\thinh\\documents\\anaconda\\lib\\site-packages (from Werkzeug<3.1->dash) (2.1.1)\n",
      "Requirement already satisfied: zipp>=0.5 in c:\\users\\thinh\\documents\\anaconda\\lib\\site-packages (from importlib-metadata->dash) (3.11.0)\n",
      "Requirement already satisfied: charset-normalizer<4,>=2 in c:\\users\\thinh\\documents\\anaconda\\lib\\site-packages (from requests->dash) (2.0.4)\n",
      "Requirement already satisfied: idna<4,>=2.5 in c:\\users\\thinh\\documents\\anaconda\\lib\\site-packages (from requests->dash) (3.4)\n",
      "Requirement already satisfied: urllib3<3,>=1.21.1 in c:\\users\\thinh\\documents\\anaconda\\lib\\site-packages (from requests->dash) (1.26.16)\n",
      "Requirement already satisfied: certifi>=2017.4.17 in c:\\users\\thinh\\documents\\anaconda\\lib\\site-packages (from requests->dash) (2024.6.2)\n",
      "Requirement already satisfied: six>=1.7.0 in c:\\users\\thinh\\documents\\anaconda\\lib\\site-packages (from retrying->dash) (1.16.0)\n",
      "Requirement already satisfied: colorama in c:\\users\\thinh\\documents\\anaconda\\lib\\site-packages (from click>=8.0->Flask<3.1,>=1.0.4->dash) (0.4.6)\n",
      "Downloading dash-2.17.1-py3-none-any.whl (7.5 MB)\n",
      "   ---------------------------------------- 0.0/7.5 MB ? eta -:--:--\n",
      "    --------------------------------------- 0.1/7.5 MB 3.6 MB/s eta 0:00:03\n",
      "   - -------------------------------------- 0.3/7.5 MB 3.4 MB/s eta 0:00:03\n",
      "   -- ------------------------------------- 0.5/7.5 MB 4.1 MB/s eta 0:00:02\n",
      "   --- ------------------------------------ 0.7/7.5 MB 3.9 MB/s eta 0:00:02\n",
      "   ----- ---------------------------------- 1.0/7.5 MB 4.3 MB/s eta 0:00:02\n",
      "   ------- -------------------------------- 1.3/7.5 MB 4.6 MB/s eta 0:00:02\n",
      "   ------- -------------------------------- 1.5/7.5 MB 4.5 MB/s eta 0:00:02\n",
      "   -------- ------------------------------- 1.6/7.5 MB 4.5 MB/s eta 0:00:02\n",
      "   --------- ------------------------------ 1.8/7.5 MB 4.3 MB/s eta 0:00:02\n",
      "   ----------- ---------------------------- 2.1/7.5 MB 4.4 MB/s eta 0:00:02\n",
      "   ------------ --------------------------- 2.3/7.5 MB 4.3 MB/s eta 0:00:02\n",
      "   ------------- -------------------------- 2.6/7.5 MB 4.6 MB/s eta 0:00:02\n",
      "   --------------- ------------------------ 2.9/7.5 MB 4.7 MB/s eta 0:00:01\n",
      "   ---------------- ----------------------- 3.1/7.5 MB 4.6 MB/s eta 0:00:01\n",
      "   ------------------ --------------------- 3.4/7.5 MB 4.8 MB/s eta 0:00:01\n",
      "   ------------------- -------------------- 3.6/7.5 MB 4.8 MB/s eta 0:00:01\n",
      "   --------------------- ------------------ 4.1/7.5 MB 5.0 MB/s eta 0:00:01\n",
      "   ---------------------- ----------------- 4.1/7.5 MB 5.0 MB/s eta 0:00:01\n",
      "   ------------------------ --------------- 4.6/7.5 MB 5.1 MB/s eta 0:00:01\n",
      "   -------------------------- ------------- 5.0/7.5 MB 5.2 MB/s eta 0:00:01\n",
      "   ---------------------------- ----------- 5.3/7.5 MB 5.3 MB/s eta 0:00:01\n",
      "   ----------------------------- ---------- 5.5/7.5 MB 5.3 MB/s eta 0:00:01\n",
      "   -------------------------------- ------- 6.0/7.5 MB 5.5 MB/s eta 0:00:01\n",
      "   --------------------------------- ------ 6.3/7.5 MB 5.5 MB/s eta 0:00:01\n",
      "   ----------------------------------- ---- 6.6/7.5 MB 5.6 MB/s eta 0:00:01\n",
      "   ------------------------------------- -- 7.1/7.5 MB 5.7 MB/s eta 0:00:01\n",
      "   ---------------------------------------  7.3/7.5 MB 5.8 MB/s eta 0:00:01\n",
      "   ---------------------------------------  7.5/7.5 MB 5.8 MB/s eta 0:00:01\n",
      "   ---------------------------------------- 7.5/7.5 MB 5.6 MB/s eta 0:00:00\n",
      "Downloading dash_core_components-2.0.0-py3-none-any.whl (3.8 kB)\n",
      "Downloading dash_html_components-2.0.0-py3-none-any.whl (4.1 kB)\n",
      "Downloading dash_table-5.0.0-py3-none-any.whl (3.9 kB)\n",
      "Downloading retrying-1.3.4-py3-none-any.whl (11 kB)\n",
      "Installing collected packages: dash-table, dash-html-components, dash-core-components, retrying, dash\n",
      "Successfully installed dash-2.17.1 dash-core-components-2.0.0 dash-html-components-2.0.0 dash-table-5.0.0 retrying-1.3.4\n",
      "5.9.0\n",
      "2.17.1\n"
     ]
    }
   ],
   "source": [
    "# install plotly and dash, if not yet already\n",
    "! pip install plotly dash\n",
    "\n",
    "import plotly, dash\n",
    "print(plotly.__version__)\n",
    "print(dash.__version__)"
   ]
  },
  {
   "cell_type": "markdown",
   "metadata": {},
   "source": [
    "# Hello world\n",
    "Building and launching an app with Dash can be done with just 5 lines of code.\n",
    "Follow the tutorial (https://dash.plotly.com/tutorial) for more detail."
   ]
  },
  {
   "cell_type": "code",
   "execution_count": 5,
   "metadata": {
    "scrolled": true,
    "tags": []
   },
   "outputs": [
    {
     "name": "stdout",
     "output_type": "stream",
     "text": [
      "Dash app running on http://127.0.0.1:8050/\n"
     ]
    },
    {
     "data": {
      "application/javascript": [
       "window.open('http://127.0.0.1:8050/')"
      ],
      "text/plain": [
       "<IPython.core.display.Javascript object>"
      ]
     },
     "metadata": {},
     "output_type": "display_data"
    }
   ],
   "source": [
    "from dash import Dash, html\n",
    "\n",
    "\"\"\"\n",
    "Initialize the app.\n",
    " \n",
    "This line is known as the Dash constructor and is responsible for initializing your app. \n",
    "It is almost always the same for any Dash app you create.\n",
    "\"\"\" \n",
    "app = Dash()\n",
    "\n",
    "\n",
    "\"\"\"\n",
    "App layout.\n",
    "\n",
    "The app layout represents the app components that will be displayed in the web browser and \n",
    "here is provided as a list, though it could also be a Dash component. \n",
    "In this example, a single component was added to the list: an html.Div. \n",
    "The Div has a few properties, such as children, which we use to add text content to the page: \"Hello World\".\n",
    "\"\"\"\n",
    "app.layout = [\n",
    "    html.Div(children='Hello World'),\n",
    "    #*** Question: Add another html.Div to show your name, and re-run the cell for output.\n",
    "    html.Div(children = \"Truong Khang Thinh Nguyen\")\n",
    "]\n",
    "\n",
    "if __name__ == '__main__':\n",
    "    app.run(debug=True, jupyter_mode=\"tab\")\n"
   ]
  },
  {
   "cell_type": "markdown",
   "metadata": {},
   "source": [
    "# Connecting to Data\n",
    "\n",
    "There are many ways to add data to an app: APIs, external databases, local .txt files, JSON files, and more. In this example, we will highlight one of the most common ways of incorporating data from a CSV sheet."
   ]
  },
  {
   "cell_type": "code",
   "execution_count": 12,
   "metadata": {
    "tags": []
   },
   "outputs": [
    {
     "name": "stdout",
     "output_type": "stream",
     "text": [
      "       country         pop continent  lifeExp     gdpPercap\n",
      "0  Afghanistan  31889923.0      Asia   43.828    974.580338\n",
      "1      Albania   3600523.0    Europe   76.423   5937.029526\n",
      "2      Algeria  33333216.0    Africa   72.301   6223.367465\n",
      "3       Angola  12420476.0    Africa   42.731   4797.231267\n",
      "4    Argentina  40301927.0  Americas   75.320  12779.379640\n",
      "Data rowsXcols: (142, 5)\n",
      "Dash app running on http://127.0.0.1:8050/\n"
     ]
    },
    {
     "data": {
      "application/javascript": [
       "window.open('http://127.0.0.1:8050/')"
      ],
      "text/plain": [
       "<IPython.core.display.Javascript object>"
      ]
     },
     "metadata": {},
     "output_type": "display_data"
    }
   ],
   "source": [
    "# Import packages\n",
    "\n",
    "# We import the dash_table module to display the data inside a Dash DataTable.\n",
    "from dash import Dash, html, dash_table\n",
    "\n",
    "# We also import the pandas library to read the CSV sheet data.\n",
    "import pandas as pd\n",
    "\n",
    "# Incorporate data\n",
    "df = pd.read_csv('https://raw.githubusercontent.com/plotly/datasets/master/gapminder2007.csv')\n",
    "\n",
    "# Explore data\n",
    "print(df.head())\n",
    "print(\"Data rowsXcols:\", df.shape)\n",
    "\n",
    "# Initialize the app\n",
    "app = Dash()\n",
    "\n",
    "# App layout. \n",
    "# The 2nd item is a table with only 10 rows per page.\n",
    "app.layout = [\n",
    "    html.Div(children='My First App with Data'),\n",
    "    #*** Question: Change page size and observe the change in widget controls\n",
    "    # such as, total number of pages.\n",
    "    # Page size = 15\n",
    "    dash_table.DataTable(data = df.to_dict(\"records\"),page_size = 15)\n",
    "]\n",
    "\n",
    "# Run the app\n",
    "if __name__ == '__main__':\n",
    "    app.run(debug=True, jupyter_mode=\"tab\")\n"
   ]
  },
  {
   "cell_type": "markdown",
   "metadata": {},
   "source": [
    "# Visualising data\n",
    "\n",
    "The Plotly graphing library has more than 50 chart types to choose from. In this example, we will make use of the histogram chart."
   ]
  },
  {
   "cell_type": "code",
   "execution_count": 13,
   "metadata": {
    "tags": []
   },
   "outputs": [
    {
     "name": "stdout",
     "output_type": "stream",
     "text": [
      "       country         pop continent  lifeExp     gdpPercap\n",
      "0  Afghanistan  31889923.0      Asia   43.828    974.580338\n",
      "1      Albania   3600523.0    Europe   76.423   5937.029526\n",
      "2      Algeria  33333216.0    Africa   72.301   6223.367465\n",
      "3       Angola  12420476.0    Africa   42.731   4797.231267\n",
      "4    Argentina  40301927.0  Americas   75.320  12779.379640\n",
      "Data rowsXcols: (142, 5)\n",
      "Dash app running on http://127.0.0.1:8050/\n"
     ]
    },
    {
     "data": {
      "application/javascript": [
       "window.open('http://127.0.0.1:8050/')"
      ],
      "text/plain": [
       "<IPython.core.display.Javascript object>"
      ]
     },
     "metadata": {},
     "output_type": "display_data"
    }
   ],
   "source": [
    "# Import packages\n",
    "\n",
    "# We import the dcc module (DCC stands for Dash Core Components). \n",
    "# This module includes a Graph component called dcc.Graph, which is used to render interactive graphs.\n",
    "from dash import Dash, html, dash_table, dcc\n",
    "\n",
    "# We also import the plotly.express library to build the interactive graphs.\n",
    "import plotly.express as px\n",
    "\n",
    "import pandas as pd\n",
    "\n",
    "# Incorporate data\n",
    "df = pd.read_csv('https://raw.githubusercontent.com/plotly/datasets/master/gapminder2007.csv')\n",
    "\n",
    "# Explore data\n",
    "print(df.head())\n",
    "print(\"Data rowsXcols:\", df.shape)\n",
    "\n",
    "# Initialize the app\n",
    "app = Dash()\n",
    "\n",
    "# App layout\n",
    "# 3rd component is an interactive graph (interaction no shown this this example).\n",
    "# \n",
    "# Using the plotly.express library, we build the histogram chart \n",
    "# and assign it to the figure property of the dcc.Graph. This displays the histogram in our app.\n",
    "# \n",
    "app.layout = [\n",
    "    html.Div(children='My First App with Data and a Graph'),\n",
    "    dash_table.DataTable(data=df.to_dict('records'), page_size=10),\n",
    "    \n",
    "    #*** Question: Explore another histfunc other than 'avg' used above and observe behaviour.\n",
    "    # Use 'sum' \n",
    "    dcc.Graph(figure=px.histogram(df, x='continent', y='lifeExp', histfunc='sum'))\n",
    "]\n",
    "\n",
    "# Run the app\n",
    "if __name__ == '__main__':\n",
    "    app.run(debug=True, jupyter_mode=\"tab\")\n"
   ]
  },
  {
   "cell_type": "markdown",
   "metadata": {},
   "source": [
    "# Controls and Callbacks\n",
    "\n",
    "So far you have built a static app that displays tabular data and a graph. However, as you develop more sophisticated Dash apps, you will likely want to give the app user more freedom to interact with the app and explore the data in greater depth. To achieve that, you will need to add controls to the app by using the callback function.\n",
    "\n",
    "In this example we will add radio buttons to the app layout. Then, we will build the callback to create the interaction between the radio buttons and the histogram chart."
   ]
  },
  {
   "cell_type": "code",
   "execution_count": 3,
   "metadata": {
    "tags": []
   },
   "outputs": [
    {
     "name": "stdout",
     "output_type": "stream",
     "text": [
      "Dash app running on http://127.0.0.1:8050/\n"
     ]
    },
    {
     "data": {
      "application/javascript": [
       "window.open('http://127.0.0.1:8050/')"
      ],
      "text/plain": [
       "<IPython.core.display.Javascript object>"
      ]
     },
     "metadata": {},
     "output_type": "display_data"
    }
   ],
   "source": [
    "# Import packages\n",
    "\n",
    "# We import dcc like we did in the previous section to use dcc.Graph. \n",
    "# In this example, we need dcc for dcc.Graph as well as the radio buttons component, dcc.RadioItems.\n",
    "# \n",
    "# To work with the callback in a Dash app, we import the callback module and the two arguments \n",
    "# commonly used within the callback: Output and Input.\n",
    "# \n",
    "from dash import Dash, html, dash_table, dcc, callback, Output, Input\n",
    "import pandas as pd\n",
    "import plotly.express as px\n",
    "\n",
    "# Incorporate data\n",
    "df = pd.read_csv('https://raw.githubusercontent.com/plotly/datasets/master/gapminder2007.csv')\n",
    "\n",
    "# Initialize the app\n",
    "app = Dash()\n",
    "\n",
    "# App layout\n",
    "app.layout = [\n",
    "    html.Div(children='My First App with Data, Graph, and Controls'),\n",
    "    html.Hr(),\n",
    "    dcc.RadioItems(options=['pop', 'lifeExp', 'gdpPercap'], value='lifeExp', id='controls-and-radio-item'),\n",
    "    dash_table.DataTable(data=df.to_dict('records'), page_size=6),\n",
    "    dcc.Graph(figure={}, id='controls-and-graph')\n",
    "    #*** Question: Use line graphs instead of histogram.\n",
    "]\n",
    "\n",
    "# \n",
    "# Notice that we add that RadioItems component to the layout, directly above the DataTable. \n",
    "# There are three options, one for every radio button. \n",
    "# The lifeExp option is assigned to the value property, making it the currently selected value.\n",
    "# \n",
    "# Both the RadioItems and the Graph components were given id names: these will be used by \n",
    "# the callback to identify the components.\n",
    "# \n",
    "# The inputs and outputs of our app are the properties of a particular component. \n",
    "# In this example, our input is the value property of the component that has the ID \"controls-and-radio-item\". \n",
    "# If you look back at the layout, you will see that this is currently lifeExp. \n",
    "# Our output is the figure property of the component with the ID \"controls-and-graph\", which \n",
    "# is currently an empty dictionary (empty graph).\n",
    "# \n",
    "# The callback function's argument col_chosen refers to the component property of the input lifeExp. \n",
    "# We build the histogram chart inside the callback function, assigning the chosen radio item to the \n",
    "# y-axis attribute of the histogram. This means that every time the user selects a new radio item, \n",
    "# the figure is rebuilt and the y-axis of the figure is updated.\n",
    "# \n",
    "# Finally, we return the histogram at the end of the function. This assigns the histogram to the figure \n",
    "# property of the dcc.Graph, thus displaying the figure in the app.\n",
    "# \n",
    "\n",
    "# Add controls to build the interaction\n",
    "@callback(\n",
    "    Output(component_id='controls-and-graph', component_property='figure'),\n",
    "    Input(component_id='controls-and-radio-item', component_property='value')\n",
    ")\n",
    "def update_graph(col_chosen):\n",
    "    fig = px.line(df, x='continent', y=col_chosen ,title = f'Line graph of {col_chosen} by continent')\n",
    "    return fig\n",
    "\n",
    "# Run the app\n",
    "if __name__ == '__main__':\n",
    "    app.run(debug=True, jupyter_mode=\"tab\")\n"
   ]
  }
 ],
 "metadata": {
  "kernelspec": {
   "display_name": "Python 3 (ipykernel)",
   "language": "python",
   "name": "python3"
  },
  "language_info": {
   "codemirror_mode": {
    "name": "ipython",
    "version": 3
   },
   "file_extension": ".py",
   "mimetype": "text/x-python",
   "name": "python",
   "nbconvert_exporter": "python",
   "pygments_lexer": "ipython3",
   "version": "3.11.5"
  }
 },
 "nbformat": 4,
 "nbformat_minor": 4
}
