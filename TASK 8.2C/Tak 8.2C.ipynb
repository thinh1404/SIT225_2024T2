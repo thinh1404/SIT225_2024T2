{
 "cells": [
  {
   "cell_type": "code",
   "execution_count": null,
   "id": "77140787-acfd-47f7-80a0-e8a5ac857c9f",
   "metadata": {
    "tags": []
   },
   "outputs": [],
   "source": [
    "import sys\n",
    "import time\n",
    "import traceback\n",
    "from arduino_iot_cloud import ArduinoCloudClient\n",
    "import csv \n",
    "import plotly.io as pio\n",
    "import plotly.express as px\n",
    "import pandas as pd\n",
    "import numpy as np\n",
    "import dash\n",
    "from dash import dcc, html, Patch\n",
    "from dash.dependencies import Input, Output, State\n",
    "import plotly.graph_objs as go\n",
    "import asyncio\n",
    "import datetime\n",
    "from datetime import datetime\n",
    "from collections import deque"
   ]
  },
  {
   "cell_type": "code",
   "execution_count": null,
   "id": "1d2d9a09-657b-4cec-83bb-1e251b47a7b6",
   "metadata": {
    "tags": []
   },
   "outputs": [],
   "source": [
    "DEVICE_ID = \"d2d8a108-d4c3-4794-bf15-271885269210\"\n",
    "SECRET_KEY = \"YyuZ6b3CQZHTJC#TGX@@H7AiP\""
   ]
  },
  {
   "cell_type": "code",
   "execution_count": null,
   "id": "c1b31b34-361d-41cf-85bc-223586823a5e",
   "metadata": {
    "tags": []
   },
   "outputs": [],
   "source": [
    "arduino = ArduinoCloudClient(\n",
    "            device_id=DEVICE_ID, username=DEVICE_ID, password=SECRET_KEY\n",
    "        )"
   ]
  },
  {
   "cell_type": "code",
   "execution_count": null,
   "id": "6a486357-5084-44f8-95b7-8f8ef29499ca",
   "metadata": {
    "tags": []
   },
   "outputs": [],
   "source": [
    "# 2 buffer data one for temporary and the one for plotting\n",
    "buffer_data = []\n",
    "plot_data = []"
   ]
  },
  {
   "cell_type": "markdown",
   "id": "13414e27-a085-4e0b-8a8f-b39b90fa9735",
   "metadata": {},
   "source": [
    "#### Original use of Partial Property Update"
   ]
  },
  {
   "cell_type": "code",
   "execution_count": null,
   "id": "276dfeb3-15f2-49e7-813b-ca08cae4f4d6",
   "metadata": {
    "tags": []
   },
   "outputs": [],
   "source": [
    "# Initialize Dash app\n",
    "app = dash.Dash(__name__)\n",
    "\n",
    "# Example initial plot\n",
    "fig = go.Figure()\n",
    "fig.add_trace(go.Scatter(x=[], y=[], mode='lines', name='X'))\n",
    "fig.add_trace(go.Scatter(x=[], y=[], mode='lines', name='Y'))\n",
    "fig.add_trace(go.Scatter(x=[], y=[], mode='lines', name='Z'))\n",
    "\n",
    "app.layout = html.Div([\n",
    "    dcc.Graph(figure=fig, id='live-update-graph'),\n",
    "    dcc.Interval(id='interval-component', interval=1000, n_intervals=0)  # Update every second\n",
    "])\n",
    "\n",
    "@app.callback(\n",
    "    Output('live-update-graph', 'figure'),\n",
    "    Input('interval-component', 'n_intervals')\n",
    ")\n",
    "def update_graph(n_intervals):\n",
    "    global plot_data\n",
    "    if plot_data:\n",
    "        # Convert the plot_data to structured format for updating the graph\n",
    "        reformatted_data = {\n",
    "            'timestamp': [row[1] for row in plot_data],\n",
    "            'x': [row[2] for row in plot_data],\n",
    "            'y': [row[3] for row in plot_data],\n",
    "            'z': [row[4] for row in plot_data]\n",
    "        }\n",
    "        # Update the graph with the new data\n",
    "        patch = Patch()\n",
    "        patch[\"data\"] = [\n",
    "            {\"x\": reformatted_data['timestamp'], \"y\": reformatted_data['x']},\n",
    "            {\"x\": reformatted_data['timestamp'], \"y\": reformatted_data['y']},\n",
    "            {\"x\": reformatted_data['timestamp'], \"y\": reformatted_data['z']}\n",
    "        ]\n",
    "        return patch\n",
    "    return go.Figure()"
   ]
  },
  {
   "cell_type": "code",
   "execution_count": null,
   "id": "17123f91-d697-4bcc-9d6a-182febf188c6",
   "metadata": {
    "tags": []
   },
   "outputs": [],
   "source": [
    "app.run_server(debug=True, port=8006)"
   ]
  },
  {
   "cell_type": "code",
   "execution_count": null,
   "id": "b6d93147-a1b4-47a1-98da-0004914d5fb7",
   "metadata": {
    "tags": []
   },
   "outputs": [],
   "source": [
    "\n",
    "# Variables for data collection\n",
    "x, y, z = 0, 0, 0\n",
    "time = 0\n",
    "num_threshold = 5\n",
    "# Arduino Cloud Data Collection\n",
    "def on_x_changed(client, value):\n",
    "    global x\n",
    "    x = value\n",
    "\n",
    "def on_y_changed(client, value):\n",
    "    global y\n",
    "    y = value\n",
    "\n",
    "def on_z_changed(client, value):\n",
    "    global z\n",
    "    z = value\n",
    "if __name__ == \"__main__\":\n",
    "    client = ArduinoCloudClient(device_id=DEVICE_ID, username=DEVICE_ID, \n",
    "                                password=SECRET_KEY, sync_mode=True)\n",
    "    # Register the callback functions\n",
    "    client.register(\"x\", value=None, on_write=on_x_changed)\n",
    "    client.register(\"y\", value=None, on_write=on_y_changed)\n",
    "    client.register(\"z\", value=None, on_write=on_z_changed)\n",
    "    client.start()\n",
    "while True:\n",
    "    # Check if x, y, and z are all recorded\n",
    "    if x is not None and y is not None and z is not None:\n",
    "        if time < num_threshold:\n",
    "            time += 1\n",
    "            current_timestamp = datetime.now().strftime('%Y-%m-%d %H:%M:%S')\n",
    "            buffer_data.append([time, current_timestamp, x, y, z])\n",
    "            print([time, current_timestamp, x, y, z])\n",
    "\n",
    "            # Reset x, y, z for next readings\n",
    "            x, y, z = None, None, None\n",
    "        else:\n",
    "            current_timestamp = datetime.now()\n",
    "            format_time = current_timestamp.strftime('%Y-%m-%d-%H-%M-%S')\n",
    "            df = pd.DataFrame(buffer_data, \n",
    "                              columns=['Index', 'Timestamp', 'X_Acce', 'Y_Acce', 'Z_Acce'])\n",
    "            filename = f\"csv_{format_time}.csv\"\n",
    "            #df.to_csv(filename)\n",
    "\n",
    "            # Reset the time after reaching the threshold\n",
    "            time = 0\n",
    "            plot_data = buffer_data.copy()  # Update plot_data to be used in the Dash app\n",
    "\n",
    "            # Clear the buffer for the next cycle\n",
    "            buffer_data.clear()\n",
    "    client.update()  # Sync the Arduino cloud client\n"
   ]
  },
  {
   "cell_type": "markdown",
   "id": "b34e90b8-7236-4c07-82b2-8619e334665d",
   "metadata": {},
   "source": [
    "#### Wrapping API function for later use "
   ]
  },
  {
   "cell_type": "code",
   "execution_count": null,
   "id": "00e081dc-2fa6-4023-88a8-dea63f077413",
   "metadata": {},
   "outputs": [],
   "source": [
    "# API Function\n",
    "def update_smoothly(data=None, x_name=None, y_name=None, dash_app=None, \n",
    "                    graph_id=None, interval_id=None):\n",
    "    \"\"\"\n",
    "    Updates the graph in a Dash application smoothly using incremental updates.\n",
    "\n",
    "    Parameters:\n",
    "    - data (list of lists or DataFrame): Data to be used for updating the graph.\n",
    "    - x_name (str): The column name in `data` to be used for the x-axis.\n",
    "    - y_name (list of str): List of column names in `data` to be used for the y-axis.\n",
    "    - dash_app (Dash): The Dash application instance where the callback will be registered.\n",
    "    - graph_id (str): The ID of the graph component to be updated.\n",
    "    - interval_id (str): The ID of the interval component triggering the updates.\n",
    "\n",
    "    Raises:\n",
    "    - ValueError: If any of the provided arguments are None.\n",
    "    \"\"\"\n",
    "    \n",
    "    # Define a dictionary of arguments for validation\n",
    "    arguments = {\n",
    "        \"data\": data,\n",
    "        \"x_name\": x_name,\n",
    "        \"y_name\": y_name,\n",
    "        \"dash_app\": dash_app,\n",
    "        \"graph_id\": graph_id,\n",
    "        \"interval_id\": interval_id\n",
    "    }\n",
    "    \n",
    "    # Validate that none of the arguments are None\n",
    "    for arg_name, arg_value in arguments.items():\n",
    "        if arg_value is None:\n",
    "            raise ValueError(f\"{arg_name} mustn't be None.\")\n",
    "    \n",
    "    @dash_app.callback(\n",
    "        Output(graph_id, 'figure'),\n",
    "        Input(interval_id, 'n_intervals')\n",
    "    )\n",
    "    def update_graph(n_intervals):\n",
    "        \"\"\"\n",
    "        Callback function to update the graph with new data.\n",
    "\n",
    "        Parameters:\n",
    "        - n_intervals (int): The number of intervals since the last update (used to trigger the update).\n",
    "\n",
    "        Returns:\n",
    "        - dict: A dictionary representing the updated figure with new data.\n",
    "        \"\"\"\n",
    "        # Convert data to a DataFrame for easier manipulation\n",
    "        df = pd.DataFrame(data, columns=['Index', 'Timestamp', 'X', 'Y', 'Z'])\n",
    "        \n",
    "        # Initialize a Patch object to handle incremental updates\n",
    "        patch = Patch()\n",
    "        \n",
    "        # Update the graph data with the provided y_names\n",
    "        for i in range(len(y_name)):\n",
    "            patch[\"data\"][i] = {\"x\": df[x_name], \"y\": df[y_name[i]]}\n",
    "        \n",
    "        return patch\n"
   ]
  },
  {
   "cell_type": "code",
   "execution_count": null,
   "id": "7ea4cf26-9d0d-46f3-a1b2-ad59b0e1ef4e",
   "metadata": {},
   "outputs": [],
   "source": [
    "# Initialize Dash app\n",
    "# Begin the function alternative the one used in task 8.1P\n",
    "app = dash.Dash(__name__)\n",
    "\n",
    "fig = go.Figure()\n",
    "fig.add_trace(go.Scattergl(x=[], y=[], mode='lines', name='X_Acce'))\n",
    "fig.add_trace(go.Scattergl(x=[], y=[], mode='lines', name='Y_Acce'))\n",
    "fig.add_trace(go.Scattergl(x=[], y=[], mode='lines', name='Z_Acce'))\n",
    "\n",
    "app.layout = html.Div([\n",
    "    dcc.Graph(figure=fig, id='update-graph'),\n",
    "    dcc.Interval(id='interval-component', interval= 1000, n_intervals=0)  # Update every second\n",
    "])\n",
    "update_smoothly(data = plot_data, x_name = 'Timestamp' , y_name = ['X', 'Y', 'Z'] , \n",
    "                dash_app = app , graph_id = 'update-graph' , interval_id = 'interval-component')\n",
    "app.run_server(debug=True, port=8003)"
   ]
  },
  {
   "cell_type": "code",
   "execution_count": null,
   "id": "2bf73f62-0234-4b1c-8807-ce4f6185dae2",
   "metadata": {
    "tags": []
   },
   "outputs": [],
   "source": [
    "# Variables for data collection\n",
    "x, y, z = 0, 0, 0\n",
    "time = 0\n",
    "num_threshold = 5\n",
    "\n",
    "# Arduino Cloud Data Collection\n",
    "def on_x_changed(client, value):\n",
    "    global x\n",
    "    x = value\n",
    "\n",
    "def on_y_changed(client, value):\n",
    "    global y\n",
    "    y = value\n",
    "\n",
    "def on_z_changed(client, value):\n",
    "    global z\n",
    "    z = value\n",
    "\n",
    "if __name__ == \"__main__\":\n",
    "    client = ArduinoCloudClient(device_id=DEVICE_ID, username=DEVICE_ID, \n",
    "                                password=SECRET_KEY, sync_mode=True)\n",
    "    # Register the callback functions\n",
    "    client.register(\"x\", value=None, on_write=on_x_changed)\n",
    "    client.register(\"y\", value=None, on_write=on_y_changed)\n",
    "    client.register(\"z\", value=None, on_write=on_z_changed)\n",
    "    client.start()\n",
    "\n",
    "    while True:\n",
    "        # Check if x, y, and z are all recorded\n",
    "        if x is not None and y is not None and z is not None:\n",
    "            if time < num_threshold:\n",
    "                time += 1\n",
    "                current_timestamp = datetime.now().strftime('%Y-%m-%d %H:%M:%S')\n",
    "                buffer_data.append([time, current_timestamp, x, y, z])\n",
    "                print([time, current_timestamp, x, y, z])\n",
    "\n",
    "                # Reset x, y, z for next readings\n",
    "                x, y, z = None, None, None\n",
    "            else:\n",
    "                current_timestamp = datetime.now()\n",
    "                format_time = current_timestamp.strftime('%Y-%m-%d-%H-%M-%S')\n",
    "\n",
    "                # Reset the time after reaching the threshold\n",
    "                time = 0\n",
    "                plot_data = buffer_data.copy()  # Update plot_data to be used in the Dash app\n",
    "                df = pd.DataFrame(plot_data, columns = ['Index','Timestamp', 'X',  'Y', 'Z'])\n",
    "                print(plot_data)\n",
    "                #update_smoothly(data = plot_data, x_name = 'Timestamp' , y_name = ['X', 'Y', 'Z'] , \n",
    "                #dash_app = app , graph_id = 'update-graph' , interval_id = 'interval-component')\n",
    "                # Clear the buffer for the next cycle\n",
    "                buffer_data.clear()\n",
    "        client.update()  # Sync the Arduino cloud client\n"
   ]
  },
  {
   "cell_type": "code",
   "execution_count": null,
   "id": "49970a78-0309-4aae-82e8-965a79880410",
   "metadata": {},
   "outputs": [],
   "source": []
  }
 ],
 "metadata": {
  "kernelspec": {
   "display_name": "Python 3 (ipykernel)",
   "language": "python",
   "name": "python3"
  },
  "language_info": {
   "codemirror_mode": {
    "name": "ipython",
    "version": 3
   },
   "file_extension": ".py",
   "mimetype": "text/x-python",
   "name": "python",
   "nbconvert_exporter": "python",
   "pygments_lexer": "ipython3",
   "version": "3.11.5"
  }
 },
 "nbformat": 4,
 "nbformat_minor": 5
}
